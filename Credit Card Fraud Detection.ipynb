{
 "cells": [
  {
   "cell_type": "markdown",
   "id": "ecdbceed-5454-48fa-b756-20a40a666302",
   "metadata": {},
   "source": [
    "<h1 align=center><font size = 5>Credit Card Fraud Detection using Deep Learning</font></h1>"
   ]
  },
  {
   "cell_type": "markdown",
   "id": "380a4c70-5f02-4b45-9963-310fc7733596",
   "metadata": {},
   "source": [
    "## Introduction"
   ]
  },
  {
   "cell_type": "markdown",
   "id": "07630173-d6dc-4a36-af90-4c18cd59242c",
   "metadata": {},
   "source": [
    "The aim of this project is to develop a deep learning model for detecting credit card fraud. To achieve this, we will use the <a href=\"https://www.kaggle.com/datasets/mlg-ulb/creditcardfraud/data\">Credit Card Fraud Detection</a> dataset from Kaggle. This dataset contains transaction records labeled as fraudulent or non-fraudulent, and our goal is to train a model that can accurately identify fraudulent transactions."
   ]
  },
  {
   "cell_type": "markdown",
   "id": "dda05abf-b1a7-4c98-9a20-a8cb1f447a9a",
   "metadata": {},
   "source": [
    "### Importing Libraries"
   ]
  },
  {
   "cell_type": "code",
   "execution_count": 2,
   "id": "47911bfe-516e-4aa6-95c1-beb3f42eeb78",
   "metadata": {},
   "outputs": [],
   "source": [
    "import pandas as pd\n",
    "import numpy as np\n",
    "import matplotlib.pyplot as plt\n",
    "import seaborn as sns\n",
    "from sklearn.model_selection import train_test_split\n",
    "from sklearn.preprocessing import StandardScaler\n",
    "from sklearn.metrics import classification_report, confusion_matrix, roc_auc_score\n",
    "import tensorflow as tf\n",
    "from tensorflow import keras\n",
    "from tensorflow.keras.models import Sequential\n",
    "from tensorflow.keras.layers import Dense, Dropout"
   ]
  },
  {
   "cell_type": "markdown",
   "id": "c7849673-53cb-4613-8c18-a5be5e430141",
   "metadata": {},
   "source": [
    "### Download / Load Dataset"
   ]
  },
  {
   "cell_type": "markdown",
   "id": "70efa367-f3a8-48b8-a3e5-dc7604ad81f3",
   "metadata": {},
   "source": [
    "You can use the following code to download the dataset directly from Kaggle."
   ]
  },
  {
   "cell_type": "code",
   "execution_count": null,
   "id": "33739048-bb41-4e80-89db-5a2d969fc105",
   "metadata": {},
   "outputs": [],
   "source": [
    "# import kagglehub\n",
    "\n",
    "# path = kagglehub.dataset_download(\"mlg-ulb/creditcardfraud\")\n",
    "\n",
    "# print(\"Path to dataset files:\", path)"
   ]
  },
  {
   "cell_type": "markdown",
   "id": "4b2dcec5-aa9c-4e93-a636-bc0b3e73764e",
   "metadata": {},
   "source": [
    "You can also download the CSV file to your machine and load it using \"read_csv\" function."
   ]
  },
  {
   "cell_type": "code",
   "execution_count": 4,
   "id": "25a4b1b2-17fd-42a3-ab2c-c7ab4f1d9d93",
   "metadata": {},
   "outputs": [],
   "source": [
    "df = pd.read_csv ('C:/Users/Persia system/Desktop/creditcard.csv')"
   ]
  },
  {
   "cell_type": "markdown",
   "id": "cee540f0-5aa3-495e-9f31-ee2f951cadd6",
   "metadata": {},
   "source": [
    "Now that we have the dataset, let's play with it a bit to get to know it better."
   ]
  },
  {
   "cell_type": "code",
   "execution_count": 5,
   "id": "73ba34a9-abd5-419b-9a61-51a932e92859",
   "metadata": {},
   "outputs": [
    {
     "data": {
      "text/html": [
       "<div>\n",
       "<style scoped>\n",
       "    .dataframe tbody tr th:only-of-type {\n",
       "        vertical-align: middle;\n",
       "    }\n",
       "\n",
       "    .dataframe tbody tr th {\n",
       "        vertical-align: top;\n",
       "    }\n",
       "\n",
       "    .dataframe thead th {\n",
       "        text-align: right;\n",
       "    }\n",
       "</style>\n",
       "<table border=\"1\" class=\"dataframe\">\n",
       "  <thead>\n",
       "    <tr style=\"text-align: right;\">\n",
       "      <th></th>\n",
       "      <th>Time</th>\n",
       "      <th>V1</th>\n",
       "      <th>V2</th>\n",
       "      <th>V3</th>\n",
       "      <th>V4</th>\n",
       "      <th>V5</th>\n",
       "      <th>V6</th>\n",
       "      <th>V7</th>\n",
       "      <th>V8</th>\n",
       "      <th>V9</th>\n",
       "      <th>...</th>\n",
       "      <th>V21</th>\n",
       "      <th>V22</th>\n",
       "      <th>V23</th>\n",
       "      <th>V24</th>\n",
       "      <th>V25</th>\n",
       "      <th>V26</th>\n",
       "      <th>V27</th>\n",
       "      <th>V28</th>\n",
       "      <th>Amount</th>\n",
       "      <th>Class</th>\n",
       "    </tr>\n",
       "  </thead>\n",
       "  <tbody>\n",
       "    <tr>\n",
       "      <th>0</th>\n",
       "      <td>0.0</td>\n",
       "      <td>-1.359807</td>\n",
       "      <td>-0.072781</td>\n",
       "      <td>2.536347</td>\n",
       "      <td>1.378155</td>\n",
       "      <td>-0.338321</td>\n",
       "      <td>0.462388</td>\n",
       "      <td>0.239599</td>\n",
       "      <td>0.098698</td>\n",
       "      <td>0.363787</td>\n",
       "      <td>...</td>\n",
       "      <td>-0.018307</td>\n",
       "      <td>0.277838</td>\n",
       "      <td>-0.110474</td>\n",
       "      <td>0.066928</td>\n",
       "      <td>0.128539</td>\n",
       "      <td>-0.189115</td>\n",
       "      <td>0.133558</td>\n",
       "      <td>-0.021053</td>\n",
       "      <td>149.62</td>\n",
       "      <td>0</td>\n",
       "    </tr>\n",
       "    <tr>\n",
       "      <th>1</th>\n",
       "      <td>0.0</td>\n",
       "      <td>1.191857</td>\n",
       "      <td>0.266151</td>\n",
       "      <td>0.166480</td>\n",
       "      <td>0.448154</td>\n",
       "      <td>0.060018</td>\n",
       "      <td>-0.082361</td>\n",
       "      <td>-0.078803</td>\n",
       "      <td>0.085102</td>\n",
       "      <td>-0.255425</td>\n",
       "      <td>...</td>\n",
       "      <td>-0.225775</td>\n",
       "      <td>-0.638672</td>\n",
       "      <td>0.101288</td>\n",
       "      <td>-0.339846</td>\n",
       "      <td>0.167170</td>\n",
       "      <td>0.125895</td>\n",
       "      <td>-0.008983</td>\n",
       "      <td>0.014724</td>\n",
       "      <td>2.69</td>\n",
       "      <td>0</td>\n",
       "    </tr>\n",
       "    <tr>\n",
       "      <th>2</th>\n",
       "      <td>1.0</td>\n",
       "      <td>-1.358354</td>\n",
       "      <td>-1.340163</td>\n",
       "      <td>1.773209</td>\n",
       "      <td>0.379780</td>\n",
       "      <td>-0.503198</td>\n",
       "      <td>1.800499</td>\n",
       "      <td>0.791461</td>\n",
       "      <td>0.247676</td>\n",
       "      <td>-1.514654</td>\n",
       "      <td>...</td>\n",
       "      <td>0.247998</td>\n",
       "      <td>0.771679</td>\n",
       "      <td>0.909412</td>\n",
       "      <td>-0.689281</td>\n",
       "      <td>-0.327642</td>\n",
       "      <td>-0.139097</td>\n",
       "      <td>-0.055353</td>\n",
       "      <td>-0.059752</td>\n",
       "      <td>378.66</td>\n",
       "      <td>0</td>\n",
       "    </tr>\n",
       "    <tr>\n",
       "      <th>3</th>\n",
       "      <td>1.0</td>\n",
       "      <td>-0.966272</td>\n",
       "      <td>-0.185226</td>\n",
       "      <td>1.792993</td>\n",
       "      <td>-0.863291</td>\n",
       "      <td>-0.010309</td>\n",
       "      <td>1.247203</td>\n",
       "      <td>0.237609</td>\n",
       "      <td>0.377436</td>\n",
       "      <td>-1.387024</td>\n",
       "      <td>...</td>\n",
       "      <td>-0.108300</td>\n",
       "      <td>0.005274</td>\n",
       "      <td>-0.190321</td>\n",
       "      <td>-1.175575</td>\n",
       "      <td>0.647376</td>\n",
       "      <td>-0.221929</td>\n",
       "      <td>0.062723</td>\n",
       "      <td>0.061458</td>\n",
       "      <td>123.50</td>\n",
       "      <td>0</td>\n",
       "    </tr>\n",
       "    <tr>\n",
       "      <th>4</th>\n",
       "      <td>2.0</td>\n",
       "      <td>-1.158233</td>\n",
       "      <td>0.877737</td>\n",
       "      <td>1.548718</td>\n",
       "      <td>0.403034</td>\n",
       "      <td>-0.407193</td>\n",
       "      <td>0.095921</td>\n",
       "      <td>0.592941</td>\n",
       "      <td>-0.270533</td>\n",
       "      <td>0.817739</td>\n",
       "      <td>...</td>\n",
       "      <td>-0.009431</td>\n",
       "      <td>0.798278</td>\n",
       "      <td>-0.137458</td>\n",
       "      <td>0.141267</td>\n",
       "      <td>-0.206010</td>\n",
       "      <td>0.502292</td>\n",
       "      <td>0.219422</td>\n",
       "      <td>0.215153</td>\n",
       "      <td>69.99</td>\n",
       "      <td>0</td>\n",
       "    </tr>\n",
       "  </tbody>\n",
       "</table>\n",
       "<p>5 rows × 31 columns</p>\n",
       "</div>"
      ],
      "text/plain": [
       "   Time        V1        V2        V3        V4        V5        V6        V7  \\\n",
       "0   0.0 -1.359807 -0.072781  2.536347  1.378155 -0.338321  0.462388  0.239599   \n",
       "1   0.0  1.191857  0.266151  0.166480  0.448154  0.060018 -0.082361 -0.078803   \n",
       "2   1.0 -1.358354 -1.340163  1.773209  0.379780 -0.503198  1.800499  0.791461   \n",
       "3   1.0 -0.966272 -0.185226  1.792993 -0.863291 -0.010309  1.247203  0.237609   \n",
       "4   2.0 -1.158233  0.877737  1.548718  0.403034 -0.407193  0.095921  0.592941   \n",
       "\n",
       "         V8        V9  ...       V21       V22       V23       V24       V25  \\\n",
       "0  0.098698  0.363787  ... -0.018307  0.277838 -0.110474  0.066928  0.128539   \n",
       "1  0.085102 -0.255425  ... -0.225775 -0.638672  0.101288 -0.339846  0.167170   \n",
       "2  0.247676 -1.514654  ...  0.247998  0.771679  0.909412 -0.689281 -0.327642   \n",
       "3  0.377436 -1.387024  ... -0.108300  0.005274 -0.190321 -1.175575  0.647376   \n",
       "4 -0.270533  0.817739  ... -0.009431  0.798278 -0.137458  0.141267 -0.206010   \n",
       "\n",
       "        V26       V27       V28  Amount  Class  \n",
       "0 -0.189115  0.133558 -0.021053  149.62      0  \n",
       "1  0.125895 -0.008983  0.014724    2.69      0  \n",
       "2 -0.139097 -0.055353 -0.059752  378.66      0  \n",
       "3 -0.221929  0.062723  0.061458  123.50      0  \n",
       "4  0.502292  0.219422  0.215153   69.99      0  \n",
       "\n",
       "[5 rows x 31 columns]"
      ]
     },
     "execution_count": 5,
     "metadata": {},
     "output_type": "execute_result"
    }
   ],
   "source": [
    "df.head()"
   ]
  },
  {
   "cell_type": "markdown",
   "id": "d3441c27-bc1b-4d46-bd33-2ade856169aa",
   "metadata": {},
   "source": [
    "In the \"Class\" column, transactions are labeled as follows:\n",
    "<li> 1 → Fraudulent transaction </li>\n",
    "<li> 0 → Non-fraudulent transaction </li>\n",
    "</br>\n",
    "Now, let's examine the proportion of these two classes to understand the dataset's imbalance."
   ]
  },
  {
   "cell_type": "code",
   "execution_count": 22,
   "id": "0c3560aa-fc3b-4e5c-b6f7-fdff2904cd61",
   "metadata": {},
   "outputs": [
    {
     "name": "stdout",
     "output_type": "stream",
     "text": [
      "Class\n",
      "0    284315\n",
      "1       492\n",
      "Name: count, dtype: int64\n"
     ]
    }
   ],
   "source": [
    "print(df['Class'].value_counts())"
   ]
  },
  {
   "cell_type": "markdown",
   "id": "041fb13c-523e-411c-aed5-0be3c67b53eb",
   "metadata": {},
   "source": [
    "As observed, fraudulent transactions are much rarer compared to non-fraudulent ones. This class imbalance can cause issues during training, as the model may become biased toward predicting non-fraudulent transactions.\n",
    "\n",
    "To address this, I will assign higher class weights to fraudulent cases. This ensures that the loss function places greater emphasis on detecting fraud, helping the model learn effectively without being dominated by the majority class.\n",
    "\n",
    "However, before handling class imbalance, we first need to normalize the data to ensure all features are on the same scale."
   ]
  },
  {
   "cell_type": "markdown",
   "id": "9114253c-309c-41ba-8945-24b2802fe949",
   "metadata": {},
   "source": [
    "### Normalize Data"
   ]
  },
  {
   "cell_type": "code",
   "execution_count": 23,
   "id": "a84bb42e-dfb6-410c-9cd7-185e34e36feb",
   "metadata": {},
   "outputs": [],
   "source": [
    "scaler = StandardScaler()"
   ]
  },
  {
   "cell_type": "code",
   "execution_count": 24,
   "id": "d72e50e8-f218-4471-a6e3-9b845b7798be",
   "metadata": {},
   "outputs": [],
   "source": [
    "df.iloc[:, :-1] = scaler.fit_transform(df.iloc[:, :-1])"
   ]
  },
  {
   "cell_type": "markdown",
   "id": "d25306ce-a5d8-4903-9e67-999e09805201",
   "metadata": {},
   "source": [
    "The code above scales the feature values using the StandardScaler function. In deep learning projects, it is common practice to normalize only the input features, while the target values (labels) remain unchanged. Since our target column (\"Class\") consists of binary labels (0 for non-fraud and 1 for fraud), normalization is not necessary for it."
   ]
  },
  {
   "cell_type": "markdown",
   "id": "4cb020d2-78df-43f2-b500-a626ea547a0c",
   "metadata": {},
   "source": [
    "### Split Data into Train and Test Sets"
   ]
  },
  {
   "cell_type": "code",
   "execution_count": 25,
   "id": "76435e0f-d40a-4da5-acbb-0f5072b30939",
   "metadata": {},
   "outputs": [],
   "source": [
    "X = df.drop(columns=['Class'])\n",
    "y = df['Class']\n",
    "X_train, X_test, y_train, y_test = train_test_split (X, y, test_size=0.2, random_state=42, stratify=y)"
   ]
  },
  {
   "cell_type": "markdown",
   "id": "4c8903ec-f0e1-4919-95e6-c3c1bfe10042",
   "metadata": {},
   "source": [
    "Since fraudulent transactions are much rarer than non-fraudulent ones, training a model on the raw data may result in a bias toward predicting non-fraud cases. To counter this, we use class weights to give more importance to the minority class (fraudulent transactions).\n",
    "\n",
    "The following code dynamically calculates class weights based on the data distribution:"
   ]
  },
  {
   "cell_type": "code",
   "execution_count": 26,
   "id": "fd255afa-d598-4d0b-b97e-0061f87a09a8",
   "metadata": {},
   "outputs": [],
   "source": [
    "from sklearn.utils.class_weight import compute_class_weight\n",
    "\n",
    "class_weights = compute_class_weight(class_weight='balanced', classes=np.unique(y_train), y=y_train)\n",
    "class_weights_dict = {0: class_weights[0], 1: class_weights[1]}"
   ]
  },
  {
   "cell_type": "markdown",
   "id": "6ff3ff09-adbb-49c0-9d6d-88307dadf9b0",
   "metadata": {},
   "source": [
    "### Build the Deep Learning Model"
   ]
  },
  {
   "cell_type": "code",
   "execution_count": 29,
   "id": "cbbf457c-5fc7-43ef-8de7-4899da43a68f",
   "metadata": {},
   "outputs": [
    {
     "name": "stderr",
     "output_type": "stream",
     "text": [
      "C:\\ProgramData\\anaconda3\\Lib\\site-packages\\keras\\src\\layers\\core\\dense.py:87: UserWarning: Do not pass an `input_shape`/`input_dim` argument to a layer. When using Sequential models, prefer using an `Input(shape)` object as the first layer in the model instead.\n",
      "  super().__init__(activity_regularizer=activity_regularizer, **kwargs)\n"
     ]
    }
   ],
   "source": [
    "model = Sequential([\n",
    "    Dense(64, activation='relu', input_shape=(X_train.shape[1],)),\n",
    "    Dropout(0.5),\n",
    "    Dense(32, activation='relu'),\n",
    "    Dropout(0.5),\n",
    "    Dense(1, activation='sigmoid')\n",
    "])\n",
    "\n",
    "model.compile(optimizer='adam', loss='binary_crossentropy', metrics=['accuracy'])"
   ]
  },
  {
   "cell_type": "code",
   "execution_count": 30,
   "id": "eece0c34-20be-46c0-a13f-2e1e1ba83766",
   "metadata": {},
   "outputs": [
    {
     "data": {
      "text/plain": [
       "<bound method Model.summary of <Sequential name=sequential, built=True>>"
      ]
     },
     "execution_count": 30,
     "metadata": {},
     "output_type": "execute_result"
    }
   ],
   "source": [
    "model.summary"
   ]
  },
  {
   "cell_type": "markdown",
   "id": "bd5b73e5-b1d0-4d75-a061-a1e7458efdb8",
   "metadata": {},
   "source": [
    "### Train the Model"
   ]
  },
  {
   "cell_type": "code",
   "execution_count": 31,
   "id": "076d6b9d-545a-4650-8ccc-6bdc5ed075e7",
   "metadata": {},
   "outputs": [
    {
     "name": "stdout",
     "output_type": "stream",
     "text": [
      "Epoch 1/20\n",
      "\u001b[1m7121/7121\u001b[0m \u001b[32m━━━━━━━━━━━━━━━━━━━━\u001b[0m\u001b[37m\u001b[0m \u001b[1m26s\u001b[0m 3ms/step - accuracy: 0.9523 - loss: 1.2432 - val_accuracy: 0.9867 - val_loss: 0.0979\n",
      "Epoch 2/20\n",
      "\u001b[1m7121/7121\u001b[0m \u001b[32m━━━━━━━━━━━━━━━━━━━━\u001b[0m\u001b[37m\u001b[0m \u001b[1m26s\u001b[0m 4ms/step - accuracy: 0.9739 - loss: 0.1967 - val_accuracy: 0.9949 - val_loss: 0.0470\n",
      "Epoch 3/20\n",
      "\u001b[1m7121/7121\u001b[0m \u001b[32m━━━━━━━━━━━━━━━━━━━━\u001b[0m\u001b[37m\u001b[0m \u001b[1m26s\u001b[0m 4ms/step - accuracy: 0.9690 - loss: 0.2678 - val_accuracy: 0.9960 - val_loss: 0.0403\n",
      "Epoch 4/20\n",
      "\u001b[1m7121/7121\u001b[0m \u001b[32m━━━━━━━━━━━━━━━━━━━━\u001b[0m\u001b[37m\u001b[0m \u001b[1m25s\u001b[0m 3ms/step - accuracy: 0.9737 - loss: 0.2106 - val_accuracy: 0.9890 - val_loss: 0.0698\n",
      "Epoch 5/20\n",
      "\u001b[1m7121/7121\u001b[0m \u001b[32m━━━━━━━━━━━━━━━━━━━━\u001b[0m\u001b[37m\u001b[0m \u001b[1m25s\u001b[0m 4ms/step - accuracy: 0.9690 - loss: 0.1562 - val_accuracy: 0.9924 - val_loss: 0.0638\n",
      "Epoch 6/20\n",
      "\u001b[1m7121/7121\u001b[0m \u001b[32m━━━━━━━━━━━━━━━━━━━━\u001b[0m\u001b[37m\u001b[0m \u001b[1m25s\u001b[0m 4ms/step - accuracy: 0.9585 - loss: 0.2079 - val_accuracy: 0.9930 - val_loss: 0.0326\n",
      "Epoch 7/20\n",
      "\u001b[1m7121/7121\u001b[0m \u001b[32m━━━━━━━━━━━━━━━━━━━━\u001b[0m\u001b[37m\u001b[0m \u001b[1m26s\u001b[0m 4ms/step - accuracy: 0.9726 - loss: 0.1357 - val_accuracy: 0.9768 - val_loss: 0.1277\n",
      "Epoch 8/20\n",
      "\u001b[1m7121/7121\u001b[0m \u001b[32m━━━━━━━━━━━━━━━━━━━━\u001b[0m\u001b[37m\u001b[0m \u001b[1m26s\u001b[0m 4ms/step - accuracy: 0.9540 - loss: 0.1833 - val_accuracy: 0.9828 - val_loss: 0.0665\n",
      "Epoch 9/20\n",
      "\u001b[1m7121/7121\u001b[0m \u001b[32m━━━━━━━━━━━━━━━━━━━━\u001b[0m\u001b[37m\u001b[0m \u001b[1m25s\u001b[0m 4ms/step - accuracy: 0.9360 - loss: 0.1989 - val_accuracy: 0.9909 - val_loss: 0.0260\n",
      "Epoch 10/20\n",
      "\u001b[1m7121/7121\u001b[0m \u001b[32m━━━━━━━━━━━━━━━━━━━━\u001b[0m\u001b[37m\u001b[0m \u001b[1m26s\u001b[0m 4ms/step - accuracy: 0.9584 - loss: 0.1620 - val_accuracy: 0.9751 - val_loss: 0.1316\n",
      "Epoch 11/20\n",
      "\u001b[1m7121/7121\u001b[0m \u001b[32m━━━━━━━━━━━━━━━━━━━━\u001b[0m\u001b[37m\u001b[0m \u001b[1m25s\u001b[0m 4ms/step - accuracy: 0.9315 - loss: 0.2046 - val_accuracy: 0.9888 - val_loss: 0.0379\n",
      "Epoch 12/20\n",
      "\u001b[1m7121/7121\u001b[0m \u001b[32m━━━━━━━━━━━━━━━━━━━━\u001b[0m\u001b[37m\u001b[0m \u001b[1m26s\u001b[0m 4ms/step - accuracy: 0.9560 - loss: 0.2028 - val_accuracy: 0.9884 - val_loss: 0.0339\n",
      "Epoch 13/20\n",
      "\u001b[1m7121/7121\u001b[0m \u001b[32m━━━━━━━━━━━━━━━━━━━━\u001b[0m\u001b[37m\u001b[0m \u001b[1m26s\u001b[0m 4ms/step - accuracy: 0.9495 - loss: 0.2215 - val_accuracy: 0.9908 - val_loss: 0.0243\n",
      "Epoch 14/20\n",
      "\u001b[1m7121/7121\u001b[0m \u001b[32m━━━━━━━━━━━━━━━━━━━━\u001b[0m\u001b[37m\u001b[0m \u001b[1m26s\u001b[0m 4ms/step - accuracy: 0.9416 - loss: 0.2458 - val_accuracy: 0.9877 - val_loss: 0.0312\n",
      "Epoch 15/20\n",
      "\u001b[1m7121/7121\u001b[0m \u001b[32m━━━━━━━━━━━━━━━━━━━━\u001b[0m\u001b[37m\u001b[0m \u001b[1m26s\u001b[0m 4ms/step - accuracy: 0.9568 - loss: 0.1837 - val_accuracy: 0.9901 - val_loss: 0.0251\n",
      "Epoch 16/20\n",
      "\u001b[1m7121/7121\u001b[0m \u001b[32m━━━━━━━━━━━━━━━━━━━━\u001b[0m\u001b[37m\u001b[0m \u001b[1m24s\u001b[0m 3ms/step - accuracy: 0.9374 - loss: 0.3508 - val_accuracy: 0.9913 - val_loss: 0.0219\n",
      "Epoch 17/20\n",
      "\u001b[1m7121/7121\u001b[0m \u001b[32m━━━━━━━━━━━━━━━━━━━━\u001b[0m\u001b[37m\u001b[0m \u001b[1m25s\u001b[0m 3ms/step - accuracy: 0.9435 - loss: 0.2144 - val_accuracy: 0.9552 - val_loss: 0.1227\n",
      "Epoch 18/20\n",
      "\u001b[1m7121/7121\u001b[0m \u001b[32m━━━━━━━━━━━━━━━━━━━━\u001b[0m\u001b[37m\u001b[0m \u001b[1m24s\u001b[0m 3ms/step - accuracy: 0.9447 - loss: 0.1995 - val_accuracy: 0.9880 - val_loss: 0.0319\n",
      "Epoch 19/20\n",
      "\u001b[1m7121/7121\u001b[0m \u001b[32m━━━━━━━━━━━━━━━━━━━━\u001b[0m\u001b[37m\u001b[0m \u001b[1m24s\u001b[0m 3ms/step - accuracy: 0.9479 - loss: 0.1863 - val_accuracy: 0.9888 - val_loss: 0.0278\n",
      "Epoch 20/20\n",
      "\u001b[1m7121/7121\u001b[0m \u001b[32m━━━━━━━━━━━━━━━━━━━━\u001b[0m\u001b[37m\u001b[0m \u001b[1m24s\u001b[0m 3ms/step - accuracy: 0.9483 - loss: 0.1998 - val_accuracy: 0.9915 - val_loss: 0.0235\n"
     ]
    }
   ],
   "source": [
    "history = model.fit (X_train, y_train, epochs = 20, batch_size = 32, validation_data = (X_test, y_test), class_weight=class_weights_dict)"
   ]
  },
  {
   "cell_type": "markdown",
   "id": "3d86bd87-ccb8-4eae-8e56-0333d5ca6c41",
   "metadata": {},
   "source": [
    "### Evaluate the Model"
   ]
  },
  {
   "cell_type": "code",
   "execution_count": 33,
   "id": "fc51e949-461f-4762-a2a8-4bc2dab05e51",
   "metadata": {},
   "outputs": [
    {
     "name": "stdout",
     "output_type": "stream",
     "text": [
      "\u001b[1m1781/1781\u001b[0m \u001b[32m━━━━━━━━━━━━━━━━━━━━\u001b[0m\u001b[37m\u001b[0m \u001b[1m2s\u001b[0m 851us/step\n",
      "              precision    recall  f1-score   support\n",
      "\n",
      "           0       1.00      0.99      1.00     56864\n",
      "           1       0.16      0.89      0.26        98\n",
      "\n",
      "    accuracy                           0.99     56962\n",
      "   macro avg       0.58      0.94      0.63     56962\n",
      "weighted avg       1.00      0.99      0.99     56962\n",
      "\n",
      "//////////////////\n",
      "ROC AUC Score: 0.9397272977846175\n"
     ]
    }
   ],
   "source": [
    "y_pred = (model.predict(X_test) > 0.5).astype(\"int32\")\n",
    "print(classification_report(y_test, y_pred))\n",
    "print(\"ROC AUC Score:\", roc_auc_score(y_test, y_pred))"
   ]
  },
  {
   "cell_type": "markdown",
   "id": "2be5ee78-8576-41cc-9aac-2030587740cd",
   "metadata": {},
   "source": [
    "I used \"> 0.5\" because the model outputs a probability between 0 and 1 because the final activation function is sigmoid.\n",
    "Using \"> 0.5\" converts these probabilities into binary labels (0 or 1).\n",
    "\n",
    "The \"classification_report()\" function provides a detailed breakdown of the model’s performance.\n",
    "\n",
    "The ROC AUC (Receiver Operating Characteristic - Area Under the Curve) Score evaluates the model’s ability to distinguish between fraudulent and non-fraudulent transactions."
   ]
  },
  {
   "cell_type": "markdown",
   "id": "061a3564-42f8-410e-bd31-f74b639c99e9",
   "metadata": {},
   "source": [
    "### Visualize Results"
   ]
  },
  {
   "cell_type": "code",
   "execution_count": 34,
   "id": "9b39e8fc-6108-46ff-b960-6d0c5f42db9a",
   "metadata": {},
   "outputs": [
    {
     "data": {
      "image/png": "[encoded data removed]",
      "text/plain": [
       "<Figure size 640x480 with 1 Axes>"
      ]
     },
     "metadata": {},
     "output_type": "display_data"
    }
   ],
   "source": [
    "plt.plot(history.history['accuracy'], label='Train Accuracy')\n",
    "plt.plot(history.history['val_accuracy'], label='Validation Accuracy')\n",
    "plt.legend()\n",
    "plt.show()"
   ]
  },
  {
   "cell_type": "markdown",
   "id": "1501c8f1-8012-4062-ae88-37915266eab7",
   "metadata": {},
   "source": [
    "### Thanks for your time\n",
    "\n",
    "Author: [Mohammadmehdi Omidi](https://www.linkedin.com/in/mohammadmehdi-omidi/)\n",
    "\n",
    "I hope you found this notebook useful."
   ]
  }
 ],
 "metadata": {
  "kernelspec": {
   "display_name": "Python 3 (ipykernel)",
   "language": "python",
   "name": "python3"
  },
  "language_info": {
   "codemirror_mode": {
    "name": "ipython",
    "version": 3
   },
   "file_extension": ".py",
   "mimetype": "text/x-python",
   "name": "python",
   "nbconvert_exporter": "python",
   "pygments_lexer": "ipython3",
   "version": "3.12.7"
  }
 },
 "nbformat": 4,
 "nbformat_minor": 5
}
